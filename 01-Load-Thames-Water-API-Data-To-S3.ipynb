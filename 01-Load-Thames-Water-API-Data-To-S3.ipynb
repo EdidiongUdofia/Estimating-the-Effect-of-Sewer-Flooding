{
 "cells": [
  {
   "cell_type": "markdown",
   "metadata": {},
   "source": [
    "# Raw Thames Water API\n",
    "\n",
    "> This notebook retrieves data from the Thames Water API and writes it to s3 in json format. The following API Endpoints are used:\n",
    "\n",
    "- [DischargeCurrentStatus](https://developer.thameswater.co.uk/docs/water-quality): Give the current status of the discharge at a given site.\n",
    "- [DischargeAlerts](https://developer.thameswater.co.uk/docs/water-quality-time-series): Gives the alerts for a given site."
   ]
  },
  {
   "cell_type": "code",
   "execution_count": 1,
   "metadata": {
    "tags": []
   },
   "outputs": [],
   "source": [
    "import dotenv\n",
    "import os\n",
    "import sys\n"
   ]
  },
  {
   "cell_type": "code",
   "execution_count": 2,
   "metadata": {},
   "outputs": [],
   "source": [
    "# Insert the parent path relative to this notebook, so we can import from the src folder.\n",
    "sys.path.insert(0, \"..\")\n",
    "\n",
    "# Load Environment Variables\n",
    "dotenv.load_dotenv(\"../.env\")\n",
    "\n",
    "region_name = os.getenv(\"AWS_REGION\")\n",
    "aws_access_key_id = os.getenv(\"AWS_ACCESS_KEY_ID\")\n",
    "aws_secret_access_key = os.getenv(\"AWS_SECRET_ACCESS_KEY\")\n"
   ]
  },
  {
   "cell_type": "code",
   "execution_count": 3,
   "metadata": {},
   "outputs": [],
   "source": [
    "from src.data import download"
   ]
  },
  {
   "cell_type": "markdown",
   "metadata": {},
   "source": [
    "## DTE Current Status"
   ]
  },
  {
   "cell_type": "markdown",
   "metadata": {},
   "source": [
    "### Retrieve JSON Data"
   ]
  },
  {
   "cell_type": "code",
   "execution_count": 4,
   "metadata": {},
   "outputs": [
    {
     "name": "stdout",
     "output_type": "stream",
     "text": [
      "Requesting from https://prod-tw-opendata-app.uk-e1.cloudhub.io/data/STE/v1/DischargeCurrentStatus\n",
      "Response saved to json_thames_water_current_status.json\n"
     ]
    }
   ],
   "source": [
    "api_root = \"https://prod-tw-opendata-app.uk-e1.cloudhub.io\"\n",
    "api_resource = \"/data/STE/v1/DischargeCurrentStatus\"\n",
    "url = api_root + api_resource\n",
    "headers = {\n",
    "    \"content-type\": \"application/json\",\n",
    "    \"client_id\": os.getenv(\"CLIENT_ID\"),\n",
    "    \"client_secret\": os.getenv(\"CLIENT_SECRET\"),\n",
    "}\n",
    "\n",
    "# Add any query parameters if using them. Leave as '' for none.\n",
    "params = {}\n",
    "\n",
    "file_name = \"json_thames_water_current_status.json\"\n",
    "resp_json = download.request_json(url, headers, params, file_name)"
   ]
  },
  {
   "cell_type": "markdown",
   "metadata": {},
   "source": [
    "### Save JSON to S3"
   ]
  },
  {
   "cell_type": "code",
   "execution_count": 5,
   "metadata": {},
   "outputs": [],
   "source": [
    "# write thames data: current status\n",
    "bucket_name = \"2307-03-hydraulic-overload\"\n",
    "json_file = \"json_thames_water_current_status.json\"\n",
    "key_name = \"Thames_water_data_set/raw_json/json_thames_water_current_status.json\"\n",
    "download.upload_json_to_s3(\n",
    "    json_file,\n",
    "    bucket_name,\n",
    "    key_name,\n",
    "    region_name,\n",
    "    aws_access_key_id,\n",
    "    aws_secret_access_key,\n",
    ")"
   ]
  },
  {
   "cell_type": "markdown",
   "metadata": {},
   "source": [
    "## DTE Alert Stream"
   ]
  },
  {
   "cell_type": "markdown",
   "metadata": {},
   "source": [
    "### Retrieve JSON Data"
   ]
  },
  {
   "cell_type": "code",
   "execution_count": 6,
   "metadata": {},
   "outputs": [
    {
     "name": "stdout",
     "output_type": "stream",
     "text": [
      "Requesting from https://prod-tw-opendata-app.uk-e1.cloudhub.io/data/STE/v1/DischargeAlerts\n",
      "Response saved to json_thames_water_alert_stream.json\n"
     ]
    }
   ],
   "source": [
    "api_root = \"https://prod-tw-opendata-app.uk-e1.cloudhub.io\"\n",
    "api_resource = \"/data/STE/v1/DischargeAlerts\"\n",
    "url = api_root + api_resource\n",
    "headers = {\n",
    "    \"content-type\": \"application/json\",\n",
    "    \"client_id\": os.getenv(\"CLIENT_ID\"),\n",
    "    \"client_secret\": os.getenv(\"CLIENT_SECRET\"),\n",
    "}\n",
    "\n",
    "# Add any query parameters if using them. Leave as '' for none.\n",
    "params = {}\n",
    "\n",
    "file_name = \"json_thames_water_alert_stream.json\"\n",
    "resp_json = download.request_json(url, headers, params, file_name)"
   ]
  },
  {
   "cell_type": "markdown",
   "metadata": {},
   "source": [
    "### Save JSON to S3"
   ]
  },
  {
   "cell_type": "code",
   "execution_count": 7,
   "metadata": {},
   "outputs": [],
   "source": [
    "# write thames data: alert streams\n",
    "bucket_name = \"2307-03-hydraulic-overload\"\n",
    "json_file = \"json_thames_water_alert_stream.json\"\n",
    "key_name = \"Thames_water_data_set/raw_json/json_thames_water_alert_stream.json\"\n",
    "\n",
    "download.upload_json_to_s3(\n",
    "    json_file,\n",
    "    bucket_name,\n",
    "    key_name,\n",
    "    region_name,\n",
    "    aws_access_key_id,\n",
    "    aws_secret_access_key,\n",
    ")"
   ]
  },
  {
   "cell_type": "code",
   "execution_count": null,
   "metadata": {},
   "outputs": [],
   "source": []
  }
 ],
 "metadata": {
  "kaggle": {
   "accelerator": "none",
   "dataSources": [],
   "dockerImageVersionId": 30673,
   "isGpuEnabled": false,
   "isInternetEnabled": true,
   "language": "python",
   "sourceType": "notebook"
  },
  "kernelspec": {
   "display_name": "Python 3 (ipykernel)",
   "language": "python",
   "name": "python3"
  },
  "language_info": {
   "codemirror_mode": {
    "name": "ipython",
    "version": 3
   },
   "file_extension": ".py",
   "mimetype": "text/x-python",
   "name": "python",
   "nbconvert_exporter": "python",
   "pygments_lexer": "ipython3",
   "version": "3.11.3"
  }
 },
 "nbformat": 4,
 "nbformat_minor": 4
}
