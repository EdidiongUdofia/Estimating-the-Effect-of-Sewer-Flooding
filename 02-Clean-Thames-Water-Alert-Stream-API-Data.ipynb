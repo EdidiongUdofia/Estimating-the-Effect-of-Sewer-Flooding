{
 "cells": [
  {
   "cell_type": "code",
   "execution_count": 1,
   "id": "0609eab9-96cb-4c45-8f7e-94b090cd1a0f",
   "metadata": {
    "tags": []
   },
   "outputs": [],
   "source": [
    "from boto3 import client\n",
    "import json\n",
    "import pandas as pd\n",
    "import dotenv\n",
    "import os\n",
    "import sys\n",
    "import boto3\n",
    "from io import BytesIO\n",
    "import csv"
   ]
  },
  {
   "cell_type": "code",
   "execution_count": 2,
   "id": "f65e263b-041c-4efc-8788-f9594463d52c",
   "metadata": {
    "tags": []
   },
   "outputs": [],
   "source": [
    "# Read from the json the perform clean and write csv"
   ]
  },
  {
   "cell_type": "code",
   "execution_count": 3,
   "id": "1dfb94b2-7d6f-43ff-a506-b3134a68df6e",
   "metadata": {
    "tags": []
   },
   "outputs": [],
   "source": [
    "# Insert the parent path relative to this notebook, so we can import from the src folder.\n",
    "sys.path.insert(0, \"..\")\n",
    "\n",
    "# Load Environment Variables\n",
    "dotenv.load_dotenv(\"../.env\")\n",
    "\n",
    "region_name = os.getenv(\"AWS_REGION\")\n",
    "access_key = os.getenv(\"AWS_ACCESS_KEY_ID\")\n",
    "access_secret = os.getenv(\"AWS_SECRET_ACCESS_KEY\")\n",
    "bucket_name = os.getenv(\"BUCKET_NAME\")"
   ]
  },
  {
   "cell_type": "code",
   "execution_count": 4,
   "id": "54baf33d-c5cf-49df-b8e9-08b98aae6642",
   "metadata": {
    "tags": []
   },
   "outputs": [],
   "source": [
    "  # Create an S3 client and resource\n",
    "s3 = boto3.client(\"s3\")\n",
    "s3 = boto3.resource(\n",
    "        service_name=\"s3\",\n",
    "        region_name=region_name,\n",
    "        aws_access_key_id=access_key,\n",
    "        aws_secret_access_key=access_secret,\n",
    "    )"
   ]
  },
  {
   "cell_type": "code",
   "execution_count": 5,
   "id": "66ec0e8f-fe12-4b01-85d1-a19dcc3586c1",
   "metadata": {},
   "outputs": [],
   "source": [
    "# Converts JSON data to CSV format, assuming the JSON file contains a list of dictionaries with consistent keys, and writes the data into a CSV file."
   ]
  },
  {
   "cell_type": "code",
   "execution_count": 6,
   "id": "f3c72c8c-b794-47cb-b0ee-44ac5a9f7272",
   "metadata": {
    "tags": []
   },
   "outputs": [],
   "source": [
    "\n",
    "def json_to_csv(json_file, csv_file):\n",
    "    with open(json_file, 'r') as f:\n",
    "        data = json.load(f)\n",
    "    \n",
    "    if \"items\" in data and isinstance(data[\"items\"], list) and len(data[\"items\"]) > 0:\n",
    "        # Extract field names from the first item\n",
    "        field_names = list(data[\"items\"][0].keys())\n",
    "\n",
    "        with open(csv_file, 'w', newline='') as f:\n",
    "            writer = csv.DictWriter(f, fieldnames=field_names)\n",
    "            writer.writeheader()\n",
    "\n",
    "            # Write each item as a row in the CSV file\n",
    "            for item in data[\"items\"]:\n",
    "                writer.writerow(item)\n",
    "    else:\n",
    "        print(\"JSON data is not in the expected format.\")\n",
    "\n"
   ]
  },
  {
   "cell_type": "code",
   "execution_count": 7,
   "id": "9e65b1ff-0061-4c89-9034-06fc75c6d9c9",
   "metadata": {},
   "outputs": [],
   "source": [
    "# Reads JSON data from the file \"json_thames_water_alert_stream.json\", \n",
    "# Converts it into CSV format, and writes the result into \"thames_water_alert_stream.csv\"."
   ]
  },
  {
   "cell_type": "code",
   "execution_count": 8,
   "id": "ec4859c8-7112-47fd-84a9-7e2fe53c49c8",
   "metadata": {
    "tags": []
   },
   "outputs": [],
   "source": [
    "\n",
    "json_file = \"json_thames_water_alert_stream.json\"\n",
    "csv_file = \"thames_water_alert_stream.csv\"\n",
    "json_to_csv(json_file, csv_file)\n"
   ]
  },
  {
   "cell_type": "code",
   "execution_count": 9,
   "id": "bb19da97-d780-4b67-b620-393d6163941c",
   "metadata": {},
   "outputs": [],
   "source": [
    "# Reads a CSV file, \n",
    "# Converts the 'DateTime' column to datetime format, \n",
    "# Converts all string columns to lowercase, \n",
    "# Removes rows with missing values, and returns the cleaned DataFrame."
   ]
  },
  {
   "cell_type": "code",
   "execution_count": 10,
   "id": "9e5036a5-58c6-43d3-9c6f-bb6cd31c26dd",
   "metadata": {
    "tags": []
   },
   "outputs": [],
   "source": [
    "import pandas as pd\n",
    "\n",
    "def clean_csv_dataset(csv_file):\n",
    "    # Load CSV into a DataFrame\n",
    "    df = pd.read_csv(csv_file)\n",
    "\n",
    "    # Convert 'DateTime' column to datetime format\n",
    "    df['DateTime'] = pd.to_datetime(df['DateTime'])\n",
    "\n",
    "     # Convert all string columns to lowercase\n",
    "    df = df.applymap(lambda x: x.lower() if isinstance(x, str) else x)\n",
    "\n",
    "    # Drop any rows with missing values\n",
    "    df.dropna(inplace=True)\n",
    "\n",
    "    # Reset index\n",
    "    df.reset_index(drop=True, inplace=True)\n",
    "\n",
    "    return df"
   ]
  },
  {
   "cell_type": "code",
   "execution_count": 11,
   "id": "7e600da2-d5b8-4ad9-9b52-fc642f9938de",
   "metadata": {},
   "outputs": [],
   "source": [
    "# Clean the CSV file \"thames_water_alert_stream.csv\", \n",
    "# stores the cleaned data in the variable \"cleaned_dte_alert_stream\", and prints the first few rows of the cleaned DataFrame."
   ]
  },
  {
   "cell_type": "code",
   "execution_count": 12,
   "id": "96d0597b-395d-4eee-a489-1da76b9eed84",
   "metadata": {
    "tags": []
   },
   "outputs": [
    {
     "name": "stdout",
     "output_type": "stream",
     "text": [
      "  LocationName PermitNumber LocationGridRef       X       Y  \\\n",
      "0    clanfield    cssc.1001      sp29000181  429000  201810   \n",
      "1     cottered    cssc.1038      tl31522968  531520  229680   \n",
      "2      barkway    catm.3093      tl38783476  538780  234760   \n",
      "3   willingale    cssc.1456      tl58950707  558950  207070   \n",
      "4   willingale    cssc.1456      tl58950707  558950  207070   \n",
      "\n",
      "        ReceivingWaterCourse AlertType            DateTime  \n",
      "0      marsh lane west ditch     start 2024-05-06 07:00:00  \n",
      "1             cottered brook      stop 2024-05-06 06:30:00  \n",
      "2                 river quin      stop 2024-05-06 06:15:00  \n",
      "3  tributary of river roding     start 2024-05-06 06:00:00  \n",
      "4  tributary of river roding      stop 2024-05-06 05:30:00  \n"
     ]
    }
   ],
   "source": [
    "# Usage example:\n",
    "csv_file = \"thames_water_alert_stream.csv\"\n",
    "cleaned_dte_alert_stream = clean_csv_dataset(csv_file)\n",
    "print(cleaned_dte_alert_stream.head())\n"
   ]
  },
  {
   "cell_type": "code",
   "execution_count": 13,
   "id": "7a4628e7-1669-4781-8f30-40e18441145d",
   "metadata": {
    "tags": []
   },
   "outputs": [
    {
     "data": {
      "text/html": [
       "<div>\n",
       "<style scoped>\n",
       "    .dataframe tbody tr th:only-of-type {\n",
       "        vertical-align: middle;\n",
       "    }\n",
       "\n",
       "    .dataframe tbody tr th {\n",
       "        vertical-align: top;\n",
       "    }\n",
       "\n",
       "    .dataframe thead th {\n",
       "        text-align: right;\n",
       "    }\n",
       "</style>\n",
       "<table border=\"1\" class=\"dataframe\">\n",
       "  <thead>\n",
       "    <tr style=\"text-align: right;\">\n",
       "      <th></th>\n",
       "      <th>LocationName</th>\n",
       "      <th>PermitNumber</th>\n",
       "      <th>LocationGridRef</th>\n",
       "      <th>X</th>\n",
       "      <th>Y</th>\n",
       "      <th>ReceivingWaterCourse</th>\n",
       "      <th>AlertType</th>\n",
       "      <th>DateTime</th>\n",
       "    </tr>\n",
       "  </thead>\n",
       "  <tbody>\n",
       "    <tr>\n",
       "      <th>0</th>\n",
       "      <td>clanfield</td>\n",
       "      <td>cssc.1001</td>\n",
       "      <td>sp29000181</td>\n",
       "      <td>429000</td>\n",
       "      <td>201810</td>\n",
       "      <td>marsh lane west ditch</td>\n",
       "      <td>start</td>\n",
       "      <td>2024-05-06 07:00:00</td>\n",
       "    </tr>\n",
       "    <tr>\n",
       "      <th>1</th>\n",
       "      <td>cottered</td>\n",
       "      <td>cssc.1038</td>\n",
       "      <td>tl31522968</td>\n",
       "      <td>531520</td>\n",
       "      <td>229680</td>\n",
       "      <td>cottered brook</td>\n",
       "      <td>stop</td>\n",
       "      <td>2024-05-06 06:30:00</td>\n",
       "    </tr>\n",
       "    <tr>\n",
       "      <th>2</th>\n",
       "      <td>barkway</td>\n",
       "      <td>catm.3093</td>\n",
       "      <td>tl38783476</td>\n",
       "      <td>538780</td>\n",
       "      <td>234760</td>\n",
       "      <td>river quin</td>\n",
       "      <td>stop</td>\n",
       "      <td>2024-05-06 06:15:00</td>\n",
       "    </tr>\n",
       "    <tr>\n",
       "      <th>3</th>\n",
       "      <td>willingale</td>\n",
       "      <td>cssc.1456</td>\n",
       "      <td>tl58950707</td>\n",
       "      <td>558950</td>\n",
       "      <td>207070</td>\n",
       "      <td>tributary of river roding</td>\n",
       "      <td>start</td>\n",
       "      <td>2024-05-06 06:00:00</td>\n",
       "    </tr>\n",
       "    <tr>\n",
       "      <th>4</th>\n",
       "      <td>willingale</td>\n",
       "      <td>cssc.1456</td>\n",
       "      <td>tl58950707</td>\n",
       "      <td>558950</td>\n",
       "      <td>207070</td>\n",
       "      <td>tributary of river roding</td>\n",
       "      <td>stop</td>\n",
       "      <td>2024-05-06 05:30:00</td>\n",
       "    </tr>\n",
       "  </tbody>\n",
       "</table>\n",
       "</div>"
      ],
      "text/plain": [
       "  LocationName PermitNumber LocationGridRef       X       Y  \\\n",
       "0    clanfield    cssc.1001      sp29000181  429000  201810   \n",
       "1     cottered    cssc.1038      tl31522968  531520  229680   \n",
       "2      barkway    catm.3093      tl38783476  538780  234760   \n",
       "3   willingale    cssc.1456      tl58950707  558950  207070   \n",
       "4   willingale    cssc.1456      tl58950707  558950  207070   \n",
       "\n",
       "        ReceivingWaterCourse AlertType            DateTime  \n",
       "0      marsh lane west ditch     start 2024-05-06 07:00:00  \n",
       "1             cottered brook      stop 2024-05-06 06:30:00  \n",
       "2                 river quin      stop 2024-05-06 06:15:00  \n",
       "3  tributary of river roding     start 2024-05-06 06:00:00  \n",
       "4  tributary of river roding      stop 2024-05-06 05:30:00  "
      ]
     },
     "execution_count": 13,
     "metadata": {},
     "output_type": "execute_result"
    }
   ],
   "source": [
    "cleaned_dte_alert_stream.head()"
   ]
  },
  {
   "cell_type": "code",
   "execution_count": 14,
   "id": "fab06b80-4d81-44f5-8966-a1accd91759d",
   "metadata": {},
   "outputs": [],
   "source": [
    "# Uploads a local file to an Amazon S3 bucket specified by the parameters provided and prints a confirmation message."
   ]
  },
  {
   "cell_type": "code",
   "execution_count": 15,
   "id": "d15408d8-d0fc-42d0-83c4-95d4fa0f47a4",
   "metadata": {
    "tags": []
   },
   "outputs": [],
   "source": [
    "def upload_file_to_s3(local_file, bucket_name, key_name, region_name, access_key, access_secret):\n",
    "    # Create an S3 client\n",
    "    s3 = boto3.client(\n",
    "        service_name='s3',\n",
    "        region_name=region_name,\n",
    "        aws_access_key_id=access_key,\n",
    "        aws_secret_access_key=access_secret\n",
    "    )\n",
    "\n",
    "    # Upload file to S3 bucket\n",
    "    s3.upload_file(local_file, bucket_name, key_name)\n",
    "    print(f\"File uploaded to S3 bucket '{bucket_name}' with key '{key_name}'.\")\n"
   ]
  },
  {
   "cell_type": "code",
   "execution_count": 16,
   "id": "5d31d2c6-9182-4dae-b4eb-7a25888f1dd4",
   "metadata": {},
   "outputs": [],
   "source": [
    "# Saves the DataFrame \"cleaned_dte_alert_stream\" to a local CSV file, \n",
    "# Then uploads it to an Amazon S3 bucket, specifying the bucket name, key name, region, access key, and access secret."
   ]
  },
  {
   "cell_type": "code",
   "execution_count": 17,
   "id": "b355f12f-d86b-4665-baa1-7f2eb85b66fa",
   "metadata": {
    "tags": []
   },
   "outputs": [
    {
     "name": "stdout",
     "output_type": "stream",
     "text": [
      "File uploaded to S3 bucket '2307-03-hydraulic-overload' with key 'Thames_water_data_set/processed_csv_data/thames_water_alert_stream.csv'.\n"
     ]
    }
   ],
   "source": [
    "\n",
    "local_file = \"cleaned_dte_alert_stream.csv\"\n",
    "bucket_name = bucket_name\n",
    "key_name = \"Thames_water_data_set/processed_csv_data/thames_water_alert_stream.csv\"  # Replace with the desired key name in your S3 bucket\n",
    "region_name = region_name  # Replace with the AWS region of your S3 bucket\n",
    "access_key = access_key  # Replace with your AWS access key\n",
    "access_secret = access_secret  # Replace with your AWS access secret\n",
    "\n",
    "cleaned_dte_alert_stream.to_csv('cleaned_dte_alert_stream.csv', index=False)\n",
    "\n",
    "\n",
    "upload_file_to_s3(local_file, bucket_name, key_name, region_name, access_key, access_secret)\n",
    "\n"
   ]
  },
  {
   "cell_type": "markdown",
   "id": "ecbf79a5-78fb-4fcb-921f-ac558e04851f",
   "metadata": {},
   "source": []
  },
  {
   "cell_type": "code",
   "execution_count": 18,
   "id": "e184e799-7da6-4caa-af01-64fa554a7708",
   "metadata": {
    "tags": []
   },
   "outputs": [
    {
     "data": {
      "text/html": [
       "<div>\n",
       "<style scoped>\n",
       "    .dataframe tbody tr th:only-of-type {\n",
       "        vertical-align: middle;\n",
       "    }\n",
       "\n",
       "    .dataframe tbody tr th {\n",
       "        vertical-align: top;\n",
       "    }\n",
       "\n",
       "    .dataframe thead th {\n",
       "        text-align: right;\n",
       "    }\n",
       "</style>\n",
       "<table border=\"1\" class=\"dataframe\">\n",
       "  <thead>\n",
       "    <tr style=\"text-align: right;\">\n",
       "      <th></th>\n",
       "      <th>LocationName</th>\n",
       "      <th>PermitNumber</th>\n",
       "      <th>LocationGridRef</th>\n",
       "      <th>X</th>\n",
       "      <th>Y</th>\n",
       "      <th>ReceivingWaterCourse</th>\n",
       "      <th>AlertType</th>\n",
       "      <th>DateTime</th>\n",
       "    </tr>\n",
       "  </thead>\n",
       "  <tbody>\n",
       "    <tr>\n",
       "      <th>0</th>\n",
       "      <td>clanfield</td>\n",
       "      <td>cssc.1001</td>\n",
       "      <td>sp29000181</td>\n",
       "      <td>429000</td>\n",
       "      <td>201810</td>\n",
       "      <td>marsh lane west ditch</td>\n",
       "      <td>start</td>\n",
       "      <td>2024-05-06 07:00:00</td>\n",
       "    </tr>\n",
       "    <tr>\n",
       "      <th>1</th>\n",
       "      <td>cottered</td>\n",
       "      <td>cssc.1038</td>\n",
       "      <td>tl31522968</td>\n",
       "      <td>531520</td>\n",
       "      <td>229680</td>\n",
       "      <td>cottered brook</td>\n",
       "      <td>stop</td>\n",
       "      <td>2024-05-06 06:30:00</td>\n",
       "    </tr>\n",
       "    <tr>\n",
       "      <th>2</th>\n",
       "      <td>barkway</td>\n",
       "      <td>catm.3093</td>\n",
       "      <td>tl38783476</td>\n",
       "      <td>538780</td>\n",
       "      <td>234760</td>\n",
       "      <td>river quin</td>\n",
       "      <td>stop</td>\n",
       "      <td>2024-05-06 06:15:00</td>\n",
       "    </tr>\n",
       "    <tr>\n",
       "      <th>3</th>\n",
       "      <td>willingale</td>\n",
       "      <td>cssc.1456</td>\n",
       "      <td>tl58950707</td>\n",
       "      <td>558950</td>\n",
       "      <td>207070</td>\n",
       "      <td>tributary of river roding</td>\n",
       "      <td>start</td>\n",
       "      <td>2024-05-06 06:00:00</td>\n",
       "    </tr>\n",
       "    <tr>\n",
       "      <th>4</th>\n",
       "      <td>willingale</td>\n",
       "      <td>cssc.1456</td>\n",
       "      <td>tl58950707</td>\n",
       "      <td>558950</td>\n",
       "      <td>207070</td>\n",
       "      <td>tributary of river roding</td>\n",
       "      <td>stop</td>\n",
       "      <td>2024-05-06 05:30:00</td>\n",
       "    </tr>\n",
       "  </tbody>\n",
       "</table>\n",
       "</div>"
      ],
      "text/plain": [
       "  LocationName PermitNumber LocationGridRef       X       Y  \\\n",
       "0    clanfield    cssc.1001      sp29000181  429000  201810   \n",
       "1     cottered    cssc.1038      tl31522968  531520  229680   \n",
       "2      barkway    catm.3093      tl38783476  538780  234760   \n",
       "3   willingale    cssc.1456      tl58950707  558950  207070   \n",
       "4   willingale    cssc.1456      tl58950707  558950  207070   \n",
       "\n",
       "        ReceivingWaterCourse AlertType            DateTime  \n",
       "0      marsh lane west ditch     start 2024-05-06 07:00:00  \n",
       "1             cottered brook      stop 2024-05-06 06:30:00  \n",
       "2                 river quin      stop 2024-05-06 06:15:00  \n",
       "3  tributary of river roding     start 2024-05-06 06:00:00  \n",
       "4  tributary of river roding      stop 2024-05-06 05:30:00  "
      ]
     },
     "execution_count": 18,
     "metadata": {},
     "output_type": "execute_result"
    }
   ],
   "source": [
    "cleaned_dte_alert_stream.head()"
   ]
  }
 ],
 "metadata": {
  "kernelspec": {
   "display_name": "Python 3 (ipykernel)",
   "language": "python",
   "name": "python3"
  },
  "language_info": {
   "codemirror_mode": {
    "name": "ipython",
    "version": 3
   },
   "file_extension": ".py",
   "mimetype": "text/x-python",
   "name": "python",
   "nbconvert_exporter": "python",
   "pygments_lexer": "ipython3",
   "version": "3.11.3"
  }
 },
 "nbformat": 4,
 "nbformat_minor": 5
}
